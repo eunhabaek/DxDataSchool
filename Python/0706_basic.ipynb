{
 "cells": [
  {
   "cell_type": "code",
   "execution_count": 4,
   "id": "690efa79",
   "metadata": {},
   "outputs": [
    {
     "name": "stdout",
     "output_type": "stream",
     "text": [
      "num >=5\n"
     ]
    }
   ],
   "source": [
    "#다른 블럭은 들여쓰기 달라도 됨\n",
    "num=10\n",
    "if num>=5:\n",
    "    print(\"num >=5\")\n",
    "else:\n",
    "       print(\"num<5\")"
   ]
  },
  {
   "cell_type": "code",
   "execution_count": 5,
   "id": "fe4c741f",
   "metadata": {},
   "outputs": [
    {
     "data": {
      "text/plain": [
       "'\\n이 문장은 문자열 상수 만드는 문장\\n대입하지 않고 출력에 이용하지 않아 주석같이 처리\\n'"
      ]
     },
     "execution_count": 5,
     "metadata": {},
     "output_type": "execute_result"
    }
   ],
   "source": [
    "#주석처리\n",
    "\"\"\"\n",
    "이 문장은 문자열 상수 만드는 문장\n",
    "대입하지 않고 출력에 이용하지 않아 주석같이 처리됨\n",
    "\n",
    "\n",
    "\"\"\""
   ]
  },
  {
   "cell_type": "code",
   "execution_count": 6,
   "id": "3ee276ff",
   "metadata": {},
   "outputs": [
    {
     "name": "stdout",
     "output_type": "stream",
     "text": [
      "['__add__', '__class__', '__contains__', '__delattr__', '__dir__', '__doc__', '__eq__', '__format__', '__ge__', '__getattribute__', '__getitem__', '__getnewargs__', '__gt__', '__hash__', '__init__', '__init_subclass__', '__iter__', '__le__', '__len__', '__lt__', '__mod__', '__mul__', '__ne__', '__new__', '__reduce__', '__reduce_ex__', '__repr__', '__rmod__', '__rmul__', '__setattr__', '__sizeof__', '__str__', '__subclasshook__', 'capitalize', 'casefold', 'center', 'count', 'encode', 'endswith', 'expandtabs', 'find', 'format', 'format_map', 'index', 'isalnum', 'isalpha', 'isascii', 'isdecimal', 'isdigit', 'isidentifier', 'islower', 'isnumeric', 'isprintable', 'isspace', 'istitle', 'isupper', 'join', 'ljust', 'lower', 'lstrip', 'maketrans', 'partition', 'removeprefix', 'removesuffix', 'replace', 'rfind', 'rindex', 'rjust', 'rpartition', 'rsplit', 'rstrip', 'split', 'splitlines', 'startswith', 'strip', 'swapcase', 'title', 'translate', 'upper', 'zfill']\n"
     ]
    }
   ],
   "source": [
    "#document 관련 명령어\n",
    "\n",
    "#dir로 data 관련 속성, 메서드 리턴\n",
    "data=\"Hello\"\n",
    "print(dir(data))"
   ]
  },
  {
   "cell_type": "code",
   "execution_count": 7,
   "id": "e5892257",
   "metadata": {
    "scrolled": true
   },
   "outputs": [
    {
     "name": "stdout",
     "output_type": "stream",
     "text": [
      "Help on built-in function sum in module builtins:\n",
      "\n",
      "sum(iterable, /, start=0)\n",
      "    Return the sum of a 'start' value (default: 0) plus an iterable of numbers\n",
      "    \n",
      "    When the iterable is empty, return the start value.\n",
      "    This function is intended specifically for use with numeric values and may\n",
      "    reject non-numeric types.\n",
      "\n"
     ]
    }
   ],
   "source": [
    "#help로 함수 정보 확인\n",
    "help(sum)"
   ]
  },
  {
   "cell_type": "code",
   "execution_count": 8,
   "id": "be714091",
   "metadata": {},
   "outputs": [
    {
     "name": "stdout",
     "output_type": "stream",
     "text": [
      "['False', 'None', 'True', 'and', 'as', 'assert', 'async', 'await', 'break', 'class', 'continue', 'def', 'del', 'elif', 'else', 'except', 'finally', 'for', 'from', 'global', 'if', 'import', 'in', 'is', 'lambda', 'nonlocal', 'not', 'or', 'pass', 'raise', 'return', 'try', 'while', 'with', 'yield']\n"
     ]
    }
   ],
   "source": [
    "#예약어 확인\n",
    "import keyword\n",
    "print(keyword.kwlist)"
   ]
  },
  {
   "cell_type": "code",
   "execution_count": 9,
   "id": "cb0dd085",
   "metadata": {},
   "outputs": [
    {
     "name": "stdout",
     "output_type": "stream",
     "text": [
      "['C:\\\\Users\\\\USER\\\\Documents\\\\DXDATA\\\\Python', 'C:\\\\Users\\\\USER\\\\anaconda3\\\\python310.zip', 'C:\\\\Users\\\\USER\\\\anaconda3\\\\DLLs', 'C:\\\\Users\\\\USER\\\\anaconda3\\\\lib', 'C:\\\\Users\\\\USER\\\\anaconda3', '', 'C:\\\\Users\\\\USER\\\\anaconda3\\\\lib\\\\site-packages', 'C:\\\\Users\\\\USER\\\\anaconda3\\\\lib\\\\site-packages\\\\win32', 'C:\\\\Users\\\\USER\\\\anaconda3\\\\lib\\\\site-packages\\\\win32\\\\lib', 'C:\\\\Users\\\\USER\\\\anaconda3\\\\lib\\\\site-packages\\\\Pythonwin']\n"
     ]
    }
   ],
   "source": [
    "#path 확인 명령어\n",
    "import sys\n",
    "print(sys.path)"
   ]
  },
  {
   "cell_type": "code",
   "execution_count": 33,
   "id": "117c3cdf",
   "metadata": {},
   "outputs": [
    {
     "name": "stdout",
     "output_type": "stream",
     "text": [
      "2268367487504 2268367487504\n"
     ]
    }
   ],
   "source": [
    "#id 확인\n",
    "a=2+8\n",
    "b=10\n",
    "print(id(a),id(b))\n"
   ]
  },
  {
   "cell_type": "code",
   "execution_count": 25,
   "id": "7d3c9dba",
   "metadata": {},
   "outputs": [
    {
     "name": "stdout",
     "output_type": "stream",
     "text": [
      "-21\n",
      "24\n"
     ]
    }
   ],
   "source": [
    "#연산자\n",
    "print(~20)\n",
    "print(3<<3)"
   ]
  },
  {
   "cell_type": "code",
   "execution_count": 26,
   "id": "2c8205c7",
   "metadata": {},
   "outputs": [
    {
     "name": "stdout",
     "output_type": "stream",
     "text": [
      "12배수 개수: 8\n",
      "조건 확인 개수: 133\n"
     ]
    }
   ],
   "source": [
    "# and 와 or 순서 중요도 확인-1 => 화이트 박스 테스트\n",
    "cnt=0 #12 배수의 개수 카운팅\n",
    "loop =0 #조건 확인 개수 저장\n",
    "for idx in range(1,101):\n",
    "    loop+=1\n",
    "    if idx%3==0:\n",
    "        loop+=1\n",
    "        if idx%4==0:\n",
    "            cnt+=1\n",
    "\n",
    "print(\"12배수 개수:\",cnt)\n",
    "print(\"조건 확인 개수:\",loop)"
   ]
  },
  {
   "cell_type": "code",
   "execution_count": 27,
   "id": "1ca17100",
   "metadata": {},
   "outputs": [
    {
     "name": "stdout",
     "output_type": "stream",
     "text": [
      "12배수 개수: 8\n",
      "조건 확인 개수: 125\n"
     ]
    }
   ],
   "source": [
    "# and 와 or 순서 중요도 확인-2\n",
    "cnt=0 #12 배수의 개수 카운팅\n",
    "loop =0 #조건 확인 개수 저장\n",
    "for idx in range(1,101):\n",
    "    loop+=1\n",
    "    if idx%4==0:\n",
    "        loop+=1\n",
    "        if idx%3==0:\n",
    "            cnt+=1\n",
    "\n",
    "print(\"12배수 개수:\",cnt)\n",
    "print(\"조건 확인 개수:\",loop)"
   ]
  },
  {
   "cell_type": "code",
   "execution_count": 32,
   "id": "97dbdcfd",
   "metadata": {},
   "outputs": [
    {
     "name": "stdout",
     "output_type": "stream",
     "text": [
      "2024 는 윤년\n"
     ]
    }
   ],
   "source": [
    "#윤년 문제 풀이\n",
    "#윤년의 조건 - 둘 중 하나만 true\n",
    "#1. 4의 배수이고 100의 배수가 아님\n",
    "#2. 400의 배수인 경우\n",
    "\n",
    "year=2024\n",
    "\n",
    "if (year%4==0)and(year%100!=0)or(year%400==0):\n",
    "    print(year,\"는 윤년\")\n",
    "else:\n",
    "    print(year,\"는 평년\")"
   ]
  },
  {
   "cell_type": "code",
   "execution_count": 38,
   "id": "acfa9d68",
   "metadata": {},
   "outputs": [
    {
     "name": "stdout",
     "output_type": "stream",
     "text": [
      "<class 'int'>\n"
     ]
    }
   ],
   "source": [
    "#type 확인\n",
    "print(type(10))"
   ]
  },
  {
   "cell_type": "code",
   "execution_count": 39,
   "id": "6ba56687",
   "metadata": {},
   "outputs": [
    {
     "name": "stdout",
     "output_type": "stream",
     "text": [
      "9.99999999999998\n"
     ]
    }
   ],
   "source": [
    "# 머신 엡실론 에러\n",
    "tot=0.0\n",
    "for i in range(1,101):\n",
    "    tot+=0.1\n",
    "print(tot)"
   ]
  },
  {
   "cell_type": "code",
   "execution_count": 40,
   "id": "401aeb68",
   "metadata": {},
   "outputs": [
    {
     "name": "stdout",
     "output_type": "stream",
     "text": [
      "14.3\n"
     ]
    }
   ],
   "source": [
    "x=10\n",
    "y=4.3\n",
    "#자료형 다르면 못더하나, 묵시적 형변환 일어나서 x가 float으로 변경\n",
    "result=x+y\n",
    "print(result)"
   ]
  },
  {
   "cell_type": "code",
   "execution_count": 46,
   "id": "31d1f049",
   "metadata": {
    "scrolled": true
   },
   "outputs": [
    {
     "name": "stdout",
     "output_type": "stream",
     "text": [
      "3800\n"
     ]
    }
   ],
   "source": [
    "#형변환으로 반올림\n",
    "#3750 10의 자리에서 반올림\n",
    "\n",
    "rnd=100*int(3750/100+0.5)\n",
    "print(rnd)"
   ]
  },
  {
   "cell_type": "code",
   "execution_count": 51,
   "id": "00c34c00",
   "metadata": {},
   "outputs": [
    {
     "name": "stdout",
     "output_type": "stream",
     "text": [
      "num은 20.00000010\n"
     ]
    }
   ],
   "source": [
    "#print 서식 설정\n",
    "num=20\n",
    "print(\"num은 %f10\" %(num))"
   ]
  },
  {
   "cell_type": "code",
   "execution_count": 55,
   "id": "d1471adb",
   "metadata": {},
   "outputs": [
    {
     "name": "stdout",
     "output_type": "stream",
     "text": [
      "b는 a를 좋아합니다.\n"
     ]
    }
   ],
   "source": [
    "#\"{데이터의 인덱스}\".format(데이터 나열)\n",
    "print(\"{1}는 {0}를 좋아합니다.\".format(\"a\",\"b\"))"
   ]
  },
  {
   "cell_type": "code",
   "execution_count": 59,
   "id": "ad482811",
   "metadata": {},
   "outputs": [
    {
     "name": "stdout",
     "output_type": "stream",
     "text": [
      "eunha의 나이는 27입니다.\n"
     ]
    }
   ],
   "source": [
    "#fstring\n",
    "name=\"eunha\"\n",
    "age=\"27\"\n",
    "print(f\"{name}의 나이는 {age}입니다.\")"
   ]
  },
  {
   "cell_type": "code",
   "execution_count": 65,
   "id": "c0253a7c",
   "metadata": {},
   "outputs": [
    {
     "name": "stdout",
     "output_type": "stream",
     "text": [
      "What's your name?: eunha\n",
      "eunha\n",
      "How old are you?: 27\n",
      "25\n",
      "your bobbies?: yoga, running\n",
      "yoga,\n",
      "running\n",
      "프로그램 종료\n"
     ]
    }
   ],
   "source": [
    "#input 예시\n",
    "yourname=input(\"What's your name?: \")\n",
    "print(yourname)\n",
    "\n",
    "#try-except\n",
    "try:\n",
    "    yourage=int(input(\"How old are you?: \"))\n",
    "    print(yourage-2)\n",
    "except:\n",
    "    print(\"문제 발생\")\n",
    "\n",
    "hobbies=input(\"your bobbies?: \").split(\" \")\n",
    "for hobby in hobbies:\n",
    "    print(hobby)\n",
    "\n",
    "    \n",
    "print(\"프로그램 종료\")\n"
   ]
  },
  {
   "cell_type": "code",
   "execution_count": null,
   "id": "2c6d1dc4",
   "metadata": {},
   "outputs": [],
   "source": []
  }
 ],
 "metadata": {
  "kernelspec": {
   "display_name": "Python 3 (ipykernel)",
   "language": "python",
   "name": "python3"
  },
  "language_info": {
   "codemirror_mode": {
    "name": "ipython",
    "version": 3
   },
   "file_extension": ".py",
   "mimetype": "text/x-python",
   "name": "python",
   "nbconvert_exporter": "python",
   "pygments_lexer": "ipython3",
   "version": "3.10.9"
  }
 },
 "nbformat": 4,
 "nbformat_minor": 5
}
